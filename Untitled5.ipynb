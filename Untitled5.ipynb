{
  "nbformat": 4,
  "nbformat_minor": 0,
  "metadata": {
    "colab": {
      "name": "Untitled5.ipynb",
      "provenance": []
    },
    "kernelspec": {
      "name": "python3",
      "display_name": "Python 3"
    },
    "language_info": {
      "name": "python"
    }
  },
  "cells": [
    {
      "cell_type": "code",
      "metadata": {
        "id": "Cq_hMBnOAeAw"
      },
      "source": [
        "import json"
      ],
      "execution_count": 1,
      "outputs": []
    },
    {
      "cell_type": "code",
      "metadata": {
        "id": "iDXhKPfdAsKo"
      },
      "source": [
        "fd=open(\"pp.json\",\"r\")\n",
        "pp=fd.read()\n",
        "fd.close()\n",
        "js=json.loads(pp)"
      ],
      "execution_count": 2,
      "outputs": []
    },
    {
      "cell_type": "code",
      "metadata": {
        "colab": {
          "base_uri": "https://localhost:8080/"
        },
        "id": "uUvjrjKPAywP",
        "outputId": "b8f6faa3-e200-45f6-de7e-20f0c08fb440"
      },
      "source": [
        "js\n"
      ],
      "execution_count": 3,
      "outputs": [
        {
          "output_type": "execute_result",
          "data": {
            "text/plain": [
              "{'10001': {'catagory': 'soft-drink',\n",
              "  'mfg_date': '4march,2021',\n",
              "  'name': 'appay',\n",
              "  'price': 15,\n",
              "  'quantity': 300,\n",
              "  'size': '200ml',\n",
              "  'specifications': '-'},\n",
              " '10002': {'catagory': 'soft-drink',\n",
              "  'mfg_date': '1Sept,2021',\n",
              "  'name': 'sprite',\n",
              "  'price': 45,\n",
              "  'quantity': 100,\n",
              "  'size': '1L',\n",
              "  'specifications': '-'},\n",
              " '10003': {'catagory': 'drink',\n",
              "  'mfg_date': '5Sept,2021',\n",
              "  'name': 'Maza ',\n",
              "  'price': 46,\n",
              "  'quantity': 100,\n",
              "  'size': '1.2L',\n",
              "  'specifications': '-'},\n",
              " '10004': {'catagory': 'chocolate',\n",
              "  'mfg_date': '5Sept,2021',\n",
              "  'name': 'Cadbury ',\n",
              "  'price': 60,\n",
              "  'quantity': 100,\n",
              "  'size': '126gram',\n",
              "  'specifications': '-'},\n",
              " '10005': {'catagory': 'chocolate-cake',\n",
              "  'mfg_date': '5Sept,2021',\n",
              "  'name': 'cadbury bread cake',\n",
              "  'price': 100,\n",
              "  'quantity': 100,\n",
              "  'size': '200gram',\n",
              "  'specifications': '-'},\n",
              " '10006': {'catagory': 'Chocolate',\n",
              "  'mfg_date': '5Sept,2021',\n",
              "  'name': 'Cadbury Dairy Milk Small',\n",
              "  'price': 40,\n",
              "  'quantity': 100,\n",
              "  'size': '54gram',\n",
              "  'specifications': '-'},\n",
              " '10007': {'catagory': 'chocolate-bar',\n",
              "  'mfg_date': '4Sept,2021',\n",
              "  'name': 'Cadbury Dairy Milk Silk Mousse Chocolate Bar',\n",
              "  'price': 78,\n",
              "  'quantity': 100,\n",
              "  'size': '50gram',\n",
              "  'specifications': '-'},\n",
              " '10008': {'catagory': 'food',\n",
              "  'mfg_date': '2Sept,2021',\n",
              "  'name': 'bornvita',\n",
              "  'price': 300,\n",
              "  'quantity': 200,\n",
              "  'size': '1.2kg',\n",
              "  'specifications': '-'},\n",
              " '10009': {'catagory': 'food',\n",
              "  'mfg_date': '5Sept,2021',\n",
              "  'name': 'horliks',\n",
              "  'price': 200,\n",
              "  'quantity': 100,\n",
              "  'size': '1kg',\n",
              "  'specifications': '-'},\n",
              " '10010': {'catagory': 'phone',\n",
              "  'mfg_date': '3march,2021',\n",
              "  'name': 'redmi note 8',\n",
              "  'price': 15000,\n",
              "  'quantity': 750,\n",
              "  'size': 'Screen size-6.4Inches',\n",
              "  'specifications': 'black,6GB RAM ,128GB Storage'},\n",
              " '10011': {'catagory': 'android phone',\n",
              "  'mfg_date': '4mar,2021',\n",
              "  'name': '1plus5G',\n",
              "  'price': 49999,\n",
              "  'quantity': 90,\n",
              "  'size': 'Screen size-6.67Inches',\n",
              "  'specifications': 'Cosmic Black,8GB RAM ,256GB Storage'},\n",
              " '10012': {'catagory': 'phone',\n",
              "  'mfg_date': '13mar,2021',\n",
              "  'name': 'oppo A7',\n",
              "  'price': 16999,\n",
              "  'quantity': 100,\n",
              "  'size': 'Screen size-6.5Inches',\n",
              "  'specifications': 'Racing Silver,4GB RAM, 64GB Storage'},\n",
              " '10013': {'catagory': 'phone',\n",
              "  'mfg_date': '16feb,2021',\n",
              "  'name': 'samsung galakcy',\n",
              "  'price': 15999,\n",
              "  'quantity': 100,\n",
              "  'size': 'Screen size-6.5Inches',\n",
              "  'specifications': 'Fantastic Purple,6GB RAM,128GB Storage'},\n",
              " '10014': {'catagory': 'laptop',\n",
              "  'mfg_date': '8mar,2021',\n",
              "  'name': 'HP Gaming LAPTOP rayzan5 10th Gen Full HD IPS Gaming Laptop(Onyx Black)',\n",
              "  'price': 70000,\n",
              "  'quantity': 30,\n",
              "  'size': '2.2kg',\n",
              "  'specifications': '8GB/1TB HDD/Windows 10/NVIDIA GTX 1650 4GB GDDR6 Graphics'},\n",
              " '10015': {'catagory': 'laptop',\n",
              "  'mfg_date': '18feb,2021',\n",
              "  'name': 'Asus Gaming 10th Gen Intel Core i5 Processor 15.6Inch FHD Gaming Laptop(Silver)',\n",
              "  'price': 67990,\n",
              "  'quantity': 50,\n",
              "  'size': '2.23kg',\n",
              "  'specifications': '8GB/512GB SSD+32GB Intel Optane/Windows 10/NVIDIA 1650Ti 4GB'},\n",
              " '10016': {'catagory': 'laptop',\n",
              "  'mfg_date': '3mar,2021',\n",
              "  'name': 'HP Elitebook UltraSlim Hybrid Laptop 820G1 Intel Core i5 - 4200u Processor',\n",
              "  'price': 89990,\n",
              "  'quantity': 10,\n",
              "  'size': '1.5kg',\n",
              "  'specifications': '8 GB Ram, 1TB Harddisk & 256 GB ssd, Windows 10 Pro, 12.5 Inches Notebook'},\n",
              " '10017': {'catagory': 'laptop',\n",
              "  'mfg_date': '16feb,2021',\n",
              "  'name': 'LG Gram Ultra-Light 11th Gen Core i5',\n",
              "  'price': 74490,\n",
              "  'quantity': 40,\n",
              "  'size': '999gram',\n",
              "  'specifications': '8 GB RAM, 512 GB SSD, Win-10, Iris Xe Graphics, 14-inches, Thunderbolt 4, USC -C x 2 (with Power)'},\n",
              " '10018': {'catagory': 'biscuit',\n",
              "  'mfg_date': '18jan,2021',\n",
              "  'name': 'Hide and Seek(Cafe Mocha)',\n",
              "  'price': 30,\n",
              "  'quantity': 145,\n",
              "  'size': '120gram',\n",
              "  'specifications': 'fresh'},\n",
              " '10019': {'catagory': 'biscuit',\n",
              "  'mfg_date': '20jan,2021',\n",
              "  'name': 'Britannia Treat Jim Jam',\n",
              "  'price': 35,\n",
              "  'quantity': 60,\n",
              "  'size': '150gram',\n",
              "  'specifications': 'fresh'},\n",
              " '10020': {'catagory': 'food',\n",
              "  'mfg_date': '15mar,2021',\n",
              "  'name': 'Bourn Vita',\n",
              "  'price': 290,\n",
              "  'quantity': 50,\n",
              "  'size': '750gram',\n",
              "  'specifications': '-'},\n",
              " '10021': {'catagory': 'nutritiion drink',\n",
              "  'mfg_date': '26Aug,2021',\n",
              "  'name': 'Horlicks',\n",
              "  'price': 739,\n",
              "  'quantity': 40,\n",
              "  'size': '2kg',\n",
              "  'specifications': 'healthy and nutritious drink'},\n",
              " '10022': {'catagory': 'food',\n",
              "  'mfg_date': '3Sept,2021',\n",
              "  'name': 'Maggi',\n",
              "  'price': 160,\n",
              "  'quantity': 50,\n",
              "  'size': '70gram',\n",
              "  'specifications': 'masala instant noodles'},\n",
              " '10023': {'catagory': 'food',\n",
              "  'mfg_date': '1Sept,2021',\n",
              "  'name': 'Sunfeast Yippee',\n",
              "  'price': 86,\n",
              "  'quantity': 40,\n",
              "  'size': '280gram',\n",
              "  'specifications': 'whole wheat/instant noodle'},\n",
              " '10024': {'catagory': 'mango-drink',\n",
              "  'mfg_date': '3Sept,2021',\n",
              "  'name': 'Frooti-mango drink',\n",
              "  'price': 60,\n",
              "  'quantity': 10,\n",
              "  'size': '300ml',\n",
              "  'specifications': '-'},\n",
              " '10025': {'catagory': 'food',\n",
              "  'mfg_date': '1Sept,2021',\n",
              "  'name': 'Kissan Jam',\n",
              "  'price': 250,\n",
              "  'quantity': 30,\n",
              "  'size': '1kg',\n",
              "  'specifications': 'mixed fruit jam'},\n",
              " '10026': {'catagory': 'food',\n",
              "  'mfg_date': '4Sept,2021',\n",
              "  'name': 'Kurkure snacks',\n",
              "  'price': 20,\n",
              "  'quantity': 100,\n",
              "  'size': '90gram',\n",
              "  'specifications': '-'},\n",
              " '10027': {'catagory': 'food',\n",
              "  'mfg_date': '5Sept,2021',\n",
              "  'name': 'Pop-corn',\n",
              "  'price': 198,\n",
              "  'quantity': 40,\n",
              "  'size': '450gram',\n",
              "  'specifications': 'pack of 3'},\n",
              " '10028': {'catagory': 'food',\n",
              "  'mfg_date': '5Sept,2021',\n",
              "  'name': 'Dried Strowberry',\n",
              "  'price': 230,\n",
              "  'quantity': 10,\n",
              "  'size': '200gram',\n",
              "  'specifications': '-'},\n",
              " '10029': {'catagory': 'stationary-notebook',\n",
              "  'mfg_date': '14jan,2021',\n",
              "  'name': 'Classmate Spiral Notebook',\n",
              "  'price': 240,\n",
              "  'quantity': 200,\n",
              "  'size': '-',\n",
              "  'specifications': 'Single line, Spiral Binding, 240mm x 180mm, 200 Pages, Pack of 4, Multicolor '},\n",
              " '10030': {'catagory': 'stationary-notebook',\n",
              "  'mfg_date': '1Aug,2021',\n",
              "  'name': 'Classmate Long Notebook ',\n",
              "  'price': 175,\n",
              "  'quantity': 100,\n",
              "  'size': '-',\n",
              "  'specifications': 'Soft Cover, 120 Pages, 272x167mm, Single Line'},\n",
              " '10031': {'cat': 'stationary-pencil',\n",
              "  'mfg_date': '1jan,2021',\n",
              "  'name': 'Nataraj Pencil',\n",
              "  'pr': 10,\n",
              "  'qn': 50,\n",
              "  'size': '10gram',\n",
              "  'specification': 'extra dark'},\n",
              " '10032': {'cat': 'electronics',\n",
              "  'mfg_date': '5jan,2021',\n",
              "  'name': 'Mike',\n",
              "  'pr': 599,\n",
              "  'quantity': 145,\n",
              "  'size': '-',\n",
              "  'specification': 'wireless'}}"
            ]
          },
          "metadata": {},
          "execution_count": 3
        }
      ]
    },
    {
      "cell_type": "code",
      "metadata": {
        "id": "49dIXtp8A_h0"
      },
      "source": [
        ""
      ],
      "execution_count": null,
      "outputs": []
    },
    {
      "cell_type": "code",
      "metadata": {
        "colab": {
          "base_uri": "https://localhost:8080/"
        },
        "id": "fC8kPUrlA1K4",
        "outputId": "2aca9ed2-b939-4567-d706-9000c47e6325"
      },
      "source": [
        "\n",
        "type(js)"
      ],
      "execution_count": 4,
      "outputs": [
        {
          "output_type": "execute_result",
          "data": {
            "text/plain": [
              "dict"
            ]
          },
          "metadata": {},
          "execution_count": 4
        }
      ]
    },
    {
      "cell_type": "markdown",
      "metadata": {
        "id": "J_9iKNgDBMvA"
      },
      "source": [
        "add new section\n"
      ]
    },
    {
      "cell_type": "code",
      "metadata": {
        "colab": {
          "base_uri": "https://localhost:8080/"
        },
        "id": "KphWcBUrBEcX",
        "outputId": "533e424e-c891-447c-ba60-696687766c47"
      },
      "source": [
        "prod_id = str(input(\"Enter product id:\"))\n",
        "name = str(input(\"Enter name:\"))\n",
        "pr = int(input(\"Enter price:\"))\n",
        "qn = int(input(\"Enter quantity:\"))\n",
        "cat=str(input(\"Enter catagory of product\"))\n",
        "mfg_date=str(input(\"Enter manufacture date\"))\n",
        "size=input(\"Enter size:\")\n",
        "spec=str(input(\"Enter specification\"))"
      ],
      "execution_count": 5,
      "outputs": [
        {
          "name": "stdout",
          "output_type": "stream",
          "text": [
            "Enter product id:10001\n",
            "Enter name:appay\n",
            "Enter price:15\n",
            "Enter quantity:15\n",
            "Enter catagory of productsoft-drink\n",
            "Enter manufacture date4march,2021\n",
            "Enter size:200ml\n",
            "Enter specification\n"
          ]
        }
      ]
    },
    {
      "cell_type": "code",
      "metadata": {
        "id": "AwFYc2hRB5AJ"
      },
      "source": [
        "js[prod_id]= {'name': name, 'pr': pr, 'qn': qn,'cat':cat,'mfg_date':mfg_date,'size':size,'specification':spec}"
      ],
      "execution_count": 6,
      "outputs": []
    },
    {
      "cell_type": "code",
      "metadata": {
        "id": "QeExo5A5B_fR"
      },
      "source": [
        "\n",
        "save=js[prod_id]"
      ],
      "execution_count": 7,
      "outputs": []
    },
    {
      "cell_type": "code",
      "metadata": {
        "colab": {
          "base_uri": "https://localhost:8080/"
        },
        "id": "d0HAJhQECBEo",
        "outputId": "8b049b39-faad-422e-d92a-a131dc4bfc1c"
      },
      "source": [
        "save"
      ],
      "execution_count": 8,
      "outputs": [
        {
          "output_type": "execute_result",
          "data": {
            "text/plain": [
              "{'cat': 'soft-drink',\n",
              " 'mfg_date': '4march,2021',\n",
              " 'name': 'appay',\n",
              " 'pr': 15,\n",
              " 'qn': 15,\n",
              " 'size': '200ml',\n",
              " 'specification': ''}"
            ]
          },
          "metadata": {},
          "execution_count": 8
        }
      ]
    },
    {
      "cell_type": "code",
      "metadata": {
        "colab": {
          "base_uri": "https://localhost:8080/"
        },
        "id": "Mqt6cuWMCMfg",
        "outputId": "29a8d5ec-585f-4e10-ae5a-14a4282fc1e5"
      },
      "source": [
        "js"
      ],
      "execution_count": 9,
      "outputs": [
        {
          "output_type": "execute_result",
          "data": {
            "text/plain": [
              "{'10001': {'cat': 'soft-drink',\n",
              "  'mfg_date': '4march,2021',\n",
              "  'name': 'appay',\n",
              "  'pr': 15,\n",
              "  'qn': 15,\n",
              "  'size': '200ml',\n",
              "  'specification': ''},\n",
              " '10002': {'catagory': 'soft-drink',\n",
              "  'mfg_date': '1Sept,2021',\n",
              "  'name': 'sprite',\n",
              "  'price': 45,\n",
              "  'quantity': 100,\n",
              "  'size': '1L',\n",
              "  'specifications': '-'},\n",
              " '10003': {'catagory': 'drink',\n",
              "  'mfg_date': '5Sept,2021',\n",
              "  'name': 'Maza ',\n",
              "  'price': 46,\n",
              "  'quantity': 100,\n",
              "  'size': '1.2L',\n",
              "  'specifications': '-'},\n",
              " '10004': {'catagory': 'chocolate',\n",
              "  'mfg_date': '5Sept,2021',\n",
              "  'name': 'Cadbury ',\n",
              "  'price': 60,\n",
              "  'quantity': 100,\n",
              "  'size': '126gram',\n",
              "  'specifications': '-'},\n",
              " '10005': {'catagory': 'chocolate-cake',\n",
              "  'mfg_date': '5Sept,2021',\n",
              "  'name': 'cadbury bread cake',\n",
              "  'price': 100,\n",
              "  'quantity': 100,\n",
              "  'size': '200gram',\n",
              "  'specifications': '-'},\n",
              " '10006': {'catagory': 'Chocolate',\n",
              "  'mfg_date': '5Sept,2021',\n",
              "  'name': 'Cadbury Dairy Milk Small',\n",
              "  'price': 40,\n",
              "  'quantity': 100,\n",
              "  'size': '54gram',\n",
              "  'specifications': '-'},\n",
              " '10007': {'catagory': 'chocolate-bar',\n",
              "  'mfg_date': '4Sept,2021',\n",
              "  'name': 'Cadbury Dairy Milk Silk Mousse Chocolate Bar',\n",
              "  'price': 78,\n",
              "  'quantity': 100,\n",
              "  'size': '50gram',\n",
              "  'specifications': '-'},\n",
              " '10008': {'catagory': 'food',\n",
              "  'mfg_date': '2Sept,2021',\n",
              "  'name': 'bornvita',\n",
              "  'price': 300,\n",
              "  'quantity': 200,\n",
              "  'size': '1.2kg',\n",
              "  'specifications': '-'},\n",
              " '10009': {'catagory': 'food',\n",
              "  'mfg_date': '5Sept,2021',\n",
              "  'name': 'horliks',\n",
              "  'price': 200,\n",
              "  'quantity': 100,\n",
              "  'size': '1kg',\n",
              "  'specifications': '-'},\n",
              " '10010': {'catagory': 'phone',\n",
              "  'mfg_date': '3march,2021',\n",
              "  'name': 'redmi note 8',\n",
              "  'price': 15000,\n",
              "  'quantity': 750,\n",
              "  'size': 'Screen size-6.4Inches',\n",
              "  'specifications': 'black,6GB RAM ,128GB Storage'},\n",
              " '10011': {'catagory': 'android phone',\n",
              "  'mfg_date': '4mar,2021',\n",
              "  'name': '1plus5G',\n",
              "  'price': 49999,\n",
              "  'quantity': 90,\n",
              "  'size': 'Screen size-6.67Inches',\n",
              "  'specifications': 'Cosmic Black,8GB RAM ,256GB Storage'},\n",
              " '10012': {'catagory': 'phone',\n",
              "  'mfg_date': '13mar,2021',\n",
              "  'name': 'oppo A7',\n",
              "  'price': 16999,\n",
              "  'quantity': 100,\n",
              "  'size': 'Screen size-6.5Inches',\n",
              "  'specifications': 'Racing Silver,4GB RAM, 64GB Storage'},\n",
              " '10013': {'catagory': 'phone',\n",
              "  'mfg_date': '16feb,2021',\n",
              "  'name': 'samsung galakcy',\n",
              "  'price': 15999,\n",
              "  'quantity': 100,\n",
              "  'size': 'Screen size-6.5Inches',\n",
              "  'specifications': 'Fantastic Purple,6GB RAM,128GB Storage'},\n",
              " '10014': {'catagory': 'laptop',\n",
              "  'mfg_date': '8mar,2021',\n",
              "  'name': 'HP Gaming LAPTOP rayzan5 10th Gen Full HD IPS Gaming Laptop(Onyx Black)',\n",
              "  'price': 70000,\n",
              "  'quantity': 30,\n",
              "  'size': '2.2kg',\n",
              "  'specifications': '8GB/1TB HDD/Windows 10/NVIDIA GTX 1650 4GB GDDR6 Graphics'},\n",
              " '10015': {'catagory': 'laptop',\n",
              "  'mfg_date': '18feb,2021',\n",
              "  'name': 'Asus Gaming 10th Gen Intel Core i5 Processor 15.6Inch FHD Gaming Laptop(Silver)',\n",
              "  'price': 67990,\n",
              "  'quantity': 50,\n",
              "  'size': '2.23kg',\n",
              "  'specifications': '8GB/512GB SSD+32GB Intel Optane/Windows 10/NVIDIA 1650Ti 4GB'},\n",
              " '10016': {'catagory': 'laptop',\n",
              "  'mfg_date': '3mar,2021',\n",
              "  'name': 'HP Elitebook UltraSlim Hybrid Laptop 820G1 Intel Core i5 - 4200u Processor',\n",
              "  'price': 89990,\n",
              "  'quantity': 10,\n",
              "  'size': '1.5kg',\n",
              "  'specifications': '8 GB Ram, 1TB Harddisk & 256 GB ssd, Windows 10 Pro, 12.5 Inches Notebook'},\n",
              " '10017': {'catagory': 'laptop',\n",
              "  'mfg_date': '16feb,2021',\n",
              "  'name': 'LG Gram Ultra-Light 11th Gen Core i5',\n",
              "  'price': 74490,\n",
              "  'quantity': 40,\n",
              "  'size': '999gram',\n",
              "  'specifications': '8 GB RAM, 512 GB SSD, Win-10, Iris Xe Graphics, 14-inches, Thunderbolt 4, USC -C x 2 (with Power)'},\n",
              " '10018': {'catagory': 'biscuit',\n",
              "  'mfg_date': '18jan,2021',\n",
              "  'name': 'Hide and Seek(Cafe Mocha)',\n",
              "  'price': 30,\n",
              "  'quantity': 145,\n",
              "  'size': '120gram',\n",
              "  'specifications': 'fresh'},\n",
              " '10019': {'catagory': 'biscuit',\n",
              "  'mfg_date': '20jan,2021',\n",
              "  'name': 'Britannia Treat Jim Jam',\n",
              "  'price': 35,\n",
              "  'quantity': 60,\n",
              "  'size': '150gram',\n",
              "  'specifications': 'fresh'},\n",
              " '10020': {'catagory': 'food',\n",
              "  'mfg_date': '15mar,2021',\n",
              "  'name': 'Bourn Vita',\n",
              "  'price': 290,\n",
              "  'quantity': 50,\n",
              "  'size': '750gram',\n",
              "  'specifications': '-'},\n",
              " '10021': {'catagory': 'nutritiion drink',\n",
              "  'mfg_date': '26Aug,2021',\n",
              "  'name': 'Horlicks',\n",
              "  'price': 739,\n",
              "  'quantity': 40,\n",
              "  'size': '2kg',\n",
              "  'specifications': 'healthy and nutritious drink'},\n",
              " '10022': {'catagory': 'food',\n",
              "  'mfg_date': '3Sept,2021',\n",
              "  'name': 'Maggi',\n",
              "  'price': 160,\n",
              "  'quantity': 50,\n",
              "  'size': '70gram',\n",
              "  'specifications': 'masala instant noodles'},\n",
              " '10023': {'catagory': 'food',\n",
              "  'mfg_date': '1Sept,2021',\n",
              "  'name': 'Sunfeast Yippee',\n",
              "  'price': 86,\n",
              "  'quantity': 40,\n",
              "  'size': '280gram',\n",
              "  'specifications': 'whole wheat/instant noodle'},\n",
              " '10024': {'catagory': 'mango-drink',\n",
              "  'mfg_date': '3Sept,2021',\n",
              "  'name': 'Frooti-mango drink',\n",
              "  'price': 60,\n",
              "  'quantity': 10,\n",
              "  'size': '300ml',\n",
              "  'specifications': '-'},\n",
              " '10025': {'catagory': 'food',\n",
              "  'mfg_date': '1Sept,2021',\n",
              "  'name': 'Kissan Jam',\n",
              "  'price': 250,\n",
              "  'quantity': 30,\n",
              "  'size': '1kg',\n",
              "  'specifications': 'mixed fruit jam'},\n",
              " '10026': {'catagory': 'food',\n",
              "  'mfg_date': '4Sept,2021',\n",
              "  'name': 'Kurkure snacks',\n",
              "  'price': 20,\n",
              "  'quantity': 100,\n",
              "  'size': '90gram',\n",
              "  'specifications': '-'},\n",
              " '10027': {'catagory': 'food',\n",
              "  'mfg_date': '5Sept,2021',\n",
              "  'name': 'Pop-corn',\n",
              "  'price': 198,\n",
              "  'quantity': 40,\n",
              "  'size': '450gram',\n",
              "  'specifications': 'pack of 3'},\n",
              " '10028': {'catagory': 'food',\n",
              "  'mfg_date': '5Sept,2021',\n",
              "  'name': 'Dried Strowberry',\n",
              "  'price': 230,\n",
              "  'quantity': 10,\n",
              "  'size': '200gram',\n",
              "  'specifications': '-'},\n",
              " '10029': {'catagory': 'stationary-notebook',\n",
              "  'mfg_date': '14jan,2021',\n",
              "  'name': 'Classmate Spiral Notebook',\n",
              "  'price': 240,\n",
              "  'quantity': 200,\n",
              "  'size': '-',\n",
              "  'specifications': 'Single line, Spiral Binding, 240mm x 180mm, 200 Pages, Pack of 4, Multicolor '},\n",
              " '10030': {'catagory': 'stationary-notebook',\n",
              "  'mfg_date': '1Aug,2021',\n",
              "  'name': 'Classmate Long Notebook ',\n",
              "  'price': 175,\n",
              "  'quantity': 100,\n",
              "  'size': '-',\n",
              "  'specifications': 'Soft Cover, 120 Pages, 272x167mm, Single Line'},\n",
              " '10031': {'cat': 'stationary-pencil',\n",
              "  'mfg_date': '1jan,2021',\n",
              "  'name': 'Nataraj Pencil',\n",
              "  'pr': 10,\n",
              "  'qn': 50,\n",
              "  'size': '10gram',\n",
              "  'specification': 'extra dark'},\n",
              " '10032': {'cat': 'electronics',\n",
              "  'mfg_date': '5jan,2021',\n",
              "  'name': 'Mike',\n",
              "  'pr': 599,\n",
              "  'quantity': 145,\n",
              "  'size': '-',\n",
              "  'specification': 'wireless'}}"
            ]
          },
          "metadata": {},
          "execution_count": 9
        }
      ]
    },
    {
      "cell_type": "code",
      "metadata": {
        "id": "SNJPcDdsCOS4"
      },
      "source": [
        "jss=(js[prod_id])"
      ],
      "execution_count": 10,
      "outputs": []
    },
    {
      "cell_type": "code",
      "metadata": {
        "colab": {
          "base_uri": "https://localhost:8080/"
        },
        "id": "sj1h2NL_CSrY",
        "outputId": "52894491-5d27-41ff-96e3-4a7b8900f74f"
      },
      "source": [
        "print(\"Updated repository:\",js)"
      ],
      "execution_count": 11,
      "outputs": [
        {
          "output_type": "stream",
          "name": "stdout",
          "text": [
            "Updated repository: {'10001': {'name': 'appay', 'pr': 15, 'qn': 15, 'cat': 'soft-drink', 'mfg_date': '4march,2021', 'size': '200ml', 'specification': ''}, '10002': {'name': 'sprite', 'price': 45, 'quantity': 100, 'catagory': 'soft-drink', 'mfg_date': '1Sept,2021', 'size': '1L', 'specifications': '-'}, '10003': {'name': 'Maza ', 'price': 46, 'quantity': 100, 'catagory': 'drink', 'mfg_date': '5Sept,2021', 'size': '1.2L', 'specifications': '-'}, '10004': {'name': 'Cadbury ', 'price': 60, 'quantity': 100, 'catagory': 'chocolate', 'mfg_date': '5Sept,2021', 'size': '126gram', 'specifications': '-'}, '10005': {'name': 'cadbury bread cake', 'price': 100, 'quantity': 100, 'catagory': 'chocolate-cake', 'mfg_date': '5Sept,2021', 'size': '200gram', 'specifications': '-'}, '10006': {'name': 'Cadbury Dairy Milk Small', 'price': 40, 'quantity': 100, 'catagory': 'Chocolate', 'mfg_date': '5Sept,2021', 'size': '54gram', 'specifications': '-'}, '10007': {'name': 'Cadbury Dairy Milk Silk Mousse Chocolate Bar', 'price': 78, 'quantity': 100, 'catagory': 'chocolate-bar', 'mfg_date': '4Sept,2021', 'size': '50gram', 'specifications': '-'}, '10008': {'name': 'bornvita', 'price': 300, 'quantity': 200, 'catagory': 'food', 'mfg_date': '2Sept,2021', 'size': '1.2kg', 'specifications': '-'}, '10009': {'name': 'horliks', 'price': 200, 'quantity': 100, 'catagory': 'food', 'mfg_date': '5Sept,2021', 'size': '1kg', 'specifications': '-'}, '10010': {'name': 'redmi note 8', 'price': 15000, 'quantity': 750, 'catagory': 'phone', 'mfg_date': '3march,2021', 'size': 'Screen size-6.4Inches', 'specifications': 'black,6GB RAM ,128GB Storage'}, '10011': {'name': '1plus5G', 'price': 49999, 'quantity': 90, 'catagory': 'android phone', 'mfg_date': '4mar,2021', 'size': 'Screen size-6.67Inches', 'specifications': 'Cosmic Black,8GB RAM ,256GB Storage'}, '10012': {'name': 'oppo A7', 'price': 16999, 'quantity': 100, 'catagory': 'phone', 'mfg_date': '13mar,2021', 'size': 'Screen size-6.5Inches', 'specifications': 'Racing Silver,4GB RAM, 64GB Storage'}, '10013': {'name': 'samsung galakcy', 'price': 15999, 'quantity': 100, 'catagory': 'phone', 'mfg_date': '16feb,2021', 'size': 'Screen size-6.5Inches', 'specifications': 'Fantastic Purple,6GB RAM,128GB Storage'}, '10014': {'name': 'HP Gaming LAPTOP rayzan5 10th Gen Full HD IPS Gaming Laptop(Onyx Black)', 'price': 70000, 'quantity': 30, 'catagory': 'laptop', 'mfg_date': '8mar,2021', 'size': '2.2kg', 'specifications': '8GB/1TB HDD/Windows 10/NVIDIA GTX 1650 4GB GDDR6 Graphics'}, '10015': {'name': 'Asus Gaming 10th Gen Intel Core i5 Processor 15.6Inch FHD Gaming Laptop(Silver)', 'price': 67990, 'quantity': 50, 'catagory': 'laptop', 'mfg_date': '18feb,2021', 'size': '2.23kg', 'specifications': '8GB/512GB SSD+32GB Intel Optane/Windows 10/NVIDIA 1650Ti 4GB'}, '10016': {'name': 'HP Elitebook UltraSlim Hybrid Laptop 820G1 Intel Core i5 - 4200u Processor', 'price': 89990, 'quantity': 10, 'catagory': 'laptop', 'mfg_date': '3mar,2021', 'size': '1.5kg', 'specifications': '8 GB Ram, 1TB Harddisk & 256 GB ssd, Windows 10 Pro, 12.5 Inches Notebook'}, '10017': {'name': 'LG Gram Ultra-Light 11th Gen Core i5', 'price': 74490, 'quantity': 40, 'catagory': 'laptop', 'mfg_date': '16feb,2021', 'size': '999gram', 'specifications': '8 GB RAM, 512 GB SSD, Win-10, Iris Xe Graphics, 14-inches, Thunderbolt 4, USC -C x 2 (with Power)'}, '10018': {'name': 'Hide and Seek(Cafe Mocha)', 'price': 30, 'quantity': 145, 'catagory': 'biscuit', 'mfg_date': '18jan,2021', 'size': '120gram', 'specifications': 'fresh'}, '10019': {'name': 'Britannia Treat Jim Jam', 'price': 35, 'quantity': 60, 'catagory': 'biscuit', 'mfg_date': '20jan,2021', 'size': '150gram', 'specifications': 'fresh'}, '10020': {'name': 'Bourn Vita', 'price': 290, 'quantity': 50, 'catagory': 'food', 'mfg_date': '15mar,2021', 'size': '750gram', 'specifications': '-'}, '10021': {'name': 'Horlicks', 'price': 739, 'quantity': 40, 'catagory': 'nutritiion drink', 'mfg_date': '26Aug,2021', 'size': '2kg', 'specifications': 'healthy and nutritious drink'}, '10022': {'name': 'Maggi', 'price': 160, 'quantity': 50, 'catagory': 'food', 'mfg_date': '3Sept,2021', 'size': '70gram', 'specifications': 'masala instant noodles'}, '10023': {'name': 'Sunfeast Yippee', 'price': 86, 'quantity': 40, 'catagory': 'food', 'mfg_date': '1Sept,2021', 'size': '280gram', 'specifications': 'whole wheat/instant noodle'}, '10024': {'name': 'Frooti-mango drink', 'price': 60, 'quantity': 10, 'catagory': 'mango-drink', 'mfg_date': '3Sept,2021', 'size': '300ml', 'specifications': '-'}, '10025': {'name': 'Kissan Jam', 'price': 250, 'quantity': 30, 'catagory': 'food', 'mfg_date': '1Sept,2021', 'size': '1kg', 'specifications': 'mixed fruit jam'}, '10026': {'name': 'Kurkure snacks', 'price': 20, 'quantity': 100, 'catagory': 'food', 'mfg_date': '4Sept,2021', 'size': '90gram', 'specifications': '-'}, '10027': {'name': 'Pop-corn', 'price': 198, 'quantity': 40, 'catagory': 'food', 'mfg_date': '5Sept,2021', 'size': '450gram', 'specifications': 'pack of 3'}, '10028': {'name': 'Dried Strowberry', 'price': 230, 'quantity': 10, 'catagory': 'food', 'mfg_date': '5Sept,2021', 'size': '200gram', 'specifications': '-'}, '10029': {'name': 'Classmate Spiral Notebook', 'price': 240, 'quantity': 200, 'catagory': 'stationary-notebook', 'mfg_date': '14jan,2021', 'size': '-', 'specifications': 'Single line, Spiral Binding, 240mm x 180mm, 200 Pages, Pack of 4, Multicolor '}, '10030': {'name': 'Classmate Long Notebook ', 'price': 175, 'quantity': 100, 'catagory': 'stationary-notebook', 'mfg_date': '1Aug,2021', 'size': '-', 'specifications': 'Soft Cover, 120 Pages, 272x167mm, Single Line'}, '10031': {'name': 'Nataraj Pencil', 'pr': 10, 'qn': 50, 'cat': 'stationary-pencil', 'mfg_date': '1jan,2021', 'size': '10gram', 'specification': 'extra dark'}, '10032': {'name': 'Mike', 'pr': 599, 'quantity': 145, 'cat': 'electronics', 'mfg_date': '5jan,2021', 'size': '-', 'specification': 'wireless'}}\n"
          ]
        }
      ]
    },
    {
      "cell_type": "code",
      "metadata": {
        "id": "Iix18gtQCbag"
      },
      "source": [
        "fd=open(\"pp.json\",\"r\")\n",
        "fd.read()\n",
        "fd.close()\n",
        "jd=json.dumps(js)"
      ],
      "execution_count": 13,
      "outputs": []
    },
    {
      "cell_type": "code",
      "metadata": {
        "id": "8mI0haO-Cj_A"
      },
      "source": [
        "fd=open(\"pp.json\",\"w\")\n",
        "reco=fd.write(jd)\n",
        "fd.close()"
      ],
      "execution_count": 14,
      "outputs": []
    },
    {
      "cell_type": "code",
      "metadata": {
        "id": "F_7X8k-jCnCY"
      },
      "source": [
        ""
      ],
      "execution_count": null,
      "outputs": []
    }
  ]
}